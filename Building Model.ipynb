{
 "cells": [
  {
   "cell_type": "code",
   "execution_count": null,
   "metadata": {
    "id": "5YgLnMiChKcI"
   },
   "outputs": [],
   "source": [
    "import keras\n",
    "import numpy as np\n",
    "from keras.preprocessing.image import ImageDataGenerator\n",
    "from keras.models import Sequential\n",
    "from keras.layers import Dense,Dropout,Activation,Flatten,BatchNormalization,Conv2D,MaxPooling2D\n",
    "from keras.optimizers import Adam\n",
    "from keras.callbacks import EarlyStopping"
   ]
  },
  {
   "cell_type": "code",
   "execution_count": null,
   "metadata": {
    "id": "c5LgglAbhcOj"
   },
   "outputs": [],
   "source": [
    "traindatagen = ImageDataGenerator(\n",
    "    shear_range=0.3,\n",
    "    rotation_range=40,\n",
    "    width_shift_range=0.2,\n",
    "    height_shift_range=0.4,\n",
    "    zoom_range=0.3,\n",
    "    fill_mode=\"nearest\",\n",
    "    horizontal_flip=True,\n",
    "    vertical_flip=True,\n",
    "    rescale=1./255,)\n",
    "\n",
    "validatedatagen = ImageDataGenerator(rescale=1./255)"
   ]
  },
  {
   "cell_type": "code",
   "execution_count": null,
   "metadata": {
    "colab": {
     "base_uri": "https://localhost:8080/",
     "height": 50
    },
    "id": "NHLutVyChgOY",
    "outputId": "ce3ab26f-502e-435d-ba71-bead3b3e96aa"
   },
   "outputs": [
    {
     "name": "stdout",
     "output_type": "stream",
     "text": [
      "Found 17050 images belonging to 3 classes.\n",
      "Found 2099 images belonging to 3 classes.\n"
     ]
    }
   ],
   "source": [
    "num_classes = 3 # because we have 5 categories as angry,happy,netural,sad,surprise \n",
    "img_rows,img_cols=96,96\n",
    "batch_size = 32\n",
    "\n",
    "traindata_generator = traindatagen.flow_from_directory(\n",
    "    '/content/drive/My Drive/deep_learning/facialexpdata/realfacialexpressiondata/train',\n",
    "    class_mode=\"categorical\",\n",
    "    color_mode=\"grayscale\",\n",
    "    batch_size=batch_size,\n",
    "    target_size=(img_rows,img_cols),\n",
    "    shuffle=True)\n",
    "\n",
    "validationdata_generator = validatedatagen.flow_from_directory(\n",
    "    '/content/drive/My Drive/deep_learning/facialexpdata/realfacialexpressiondata/validation',\n",
    "    class_mode=\"categorical\",\n",
    "    color_mode=\"grayscale\",\n",
    "    batch_size=batch_size,\n",
    "    target_size=(img_rows,img_cols),\n",
    "    shuffle=True)"
   ]
  },
  {
   "cell_type": "code",
   "execution_count": null,
   "metadata": {
    "id": "buMs-MJTh1MP"
   },
   "outputs": [],
   "source": [
    "model = Sequential()\n",
    "\n",
    "# Block-1\n",
    "\n",
    "model.add(Conv2D(32,(3,3),padding='same',kernel_initializer='he_normal',input_shape=(img_rows,img_cols,1)))\n",
    "model.add(Activation('elu'))\n",
    "model.add(BatchNormalization())\n",
    "model.add(Conv2D(32,(3,3),padding='same',kernel_initializer='he_normal',input_shape=(img_rows,img_cols,1)))\n",
    "model.add(Activation('elu'))\n",
    "model.add(BatchNormalization())\n",
    "model.add(MaxPooling2D(pool_size=(2,2)))\n",
    "model.add(Dropout(0.2))\n",
    "\n",
    "# Block-2 \n",
    "\n",
    "model.add(Conv2D(64,(3,3),padding='same',kernel_initializer='he_normal'))\n",
    "model.add(Activation('elu'))\n",
    "model.add(BatchNormalization())\n",
    "model.add(Conv2D(64,(3,3),padding='same',kernel_initializer='he_normal'))\n",
    "model.add(Activation('elu'))\n",
    "model.add(BatchNormalization())\n",
    "model.add(MaxPooling2D(pool_size=(2,2)))\n",
    "model.add(Dropout(0.2))\n",
    "\n",
    "# Block-3\n",
    "\n",
    "model.add(Conv2D(128,(3,3),padding='same',kernel_initializer='he_normal'))\n",
    "model.add(Activation('elu'))\n",
    "model.add(BatchNormalization())\n",
    "model.add(Conv2D(128,(3,3),padding='same',kernel_initializer='he_normal'))\n",
    "model.add(Activation('elu'))\n",
    "model.add(BatchNormalization())\n",
    "model.add(MaxPooling2D(pool_size=(2,2)))\n",
    "model.add(Dropout(0.2))\n",
    "\n",
    "# Block-4 \n",
    "\n",
    "model.add(Conv2D(256,(3,3),padding='same',kernel_initializer='he_normal'))\n",
    "model.add(Activation('elu'))\n",
    "model.add(BatchNormalization())\n",
    "model.add(Conv2D(256,(3,3),padding='same',kernel_initializer='he_normal'))\n",
    "model.add(Activation('elu'))\n",
    "model.add(BatchNormalization())\n",
    "model.add(MaxPooling2D(pool_size=(2,2)))\n",
    "model.add(Dropout(0.2))\n",
    "\n",
    "# Block-5\n",
    "\n",
    "model.add(Flatten())\n",
    "model.add(Dense(64,kernel_initializer='he_normal'))\n",
    "model.add(Activation('elu'))\n",
    "model.add(BatchNormalization())\n",
    "model.add(Dropout(0.5))\n",
    "\n",
    "# Block-6\n",
    "\n",
    "model.add(Dense(num_classes,kernel_initializer='he_normal'))\n",
    "model.add(Activation('softmax'))"
   ]
  },
  {
   "cell_type": "code",
   "execution_count": null,
   "metadata": {
    "colab": {
     "base_uri": "https://localhost:8080/",
     "height": 487
    },
    "id": "L0X1f5N8jLVS",
    "outputId": "83b32b46-c047-4a9d-f378-3b1f5c08f4c8"
   },
   "outputs": [
    {
     "name": "stdout",
     "output_type": "stream",
     "text": [
      "Epoch 1/100\n",
      "532/532 [==============================] - 45s 85ms/step - loss: 0.6326 - accuracy: 0.7254 - val_loss: 1.1089 - val_accuracy: 0.6279\n",
      "Epoch 2/100\n",
      "532/532 [==============================] - 45s 85ms/step - loss: 0.6364 - accuracy: 0.7279 - val_loss: 0.9567 - val_accuracy: 0.6548\n",
      "Epoch 3/100\n",
      "532/532 [==============================] - 45s 85ms/step - loss: 0.6231 - accuracy: 0.7282 - val_loss: 0.9741 - val_accuracy: 0.6308\n",
      "Epoch 4/100\n",
      "532/532 [==============================] - 45s 85ms/step - loss: 0.6193 - accuracy: 0.7338 - val_loss: 0.9288 - val_accuracy: 0.6514\n",
      "Epoch 5/100\n",
      "532/532 [==============================] - 44s 84ms/step - loss: 0.6305 - accuracy: 0.7261 - val_loss: 1.0194 - val_accuracy: 0.6409\n",
      "Epoch 6/100\n",
      "532/532 [==============================] - 45s 85ms/step - loss: 0.6251 - accuracy: 0.7256 - val_loss: 0.9158 - val_accuracy: 0.6524\n",
      "Epoch 7/100\n",
      "532/532 [==============================] - 46s 86ms/step - loss: 0.6170 - accuracy: 0.7289 - val_loss: 0.8990 - val_accuracy: 0.6697\n",
      "Epoch 8/100\n",
      "532/532 [==============================] - 46s 87ms/step - loss: 0.6154 - accuracy: 0.7326 - val_loss: 0.9350 - val_accuracy: 0.6500\n",
      "Epoch 9/100\n",
      "532/532 [==============================] - 45s 85ms/step - loss: 0.6175 - accuracy: 0.7308 - val_loss: 1.0117 - val_accuracy: 0.6365\n",
      "Epoch 10/100\n",
      "532/532 [==============================] - 46s 86ms/step - loss: 0.6043 - accuracy: 0.7393 - val_loss: 1.0179 - val_accuracy: 0.6466\n",
      "Epoch 11/100\n",
      "532/532 [==============================] - 45s 86ms/step - loss: 0.6044 - accuracy: 0.7355 - val_loss: 0.9214 - val_accuracy: 0.6514\n",
      "Epoch 12/100\n",
      "532/532 [==============================] - 45s 86ms/step - loss: 0.6086 - accuracy: 0.7407 - val_loss: 0.9414 - val_accuracy: 0.6534\n",
      "Epoch 13/100\n",
      "532/532 [==============================] - 45s 85ms/step - loss: 0.6071 - accuracy: 0.7353 - val_loss: 0.9796 - val_accuracy: 0.6481\n",
      "Epoch 14/100\n",
      "532/532 [==============================] - 46s 86ms/step - loss: 0.6048 - accuracy: 0.7406 - val_loss: 0.9890 - val_accuracy: 0.6606\n"
     ]
    }
   ],
   "source": [
    "earlystop = EarlyStopping(monitor='val_accuracy',\n",
    "                          patience=7, \n",
    "                          mode = 'max', \n",
    "                          min_delta = 0.01,\n",
    "                          restore_best_weights=True\n",
    "                          )\n",
    "\n",
    "model.compile(loss='categorical_crossentropy',\n",
    "              optimizer = Adam(lr=0.001),\n",
    "              metrics=['accuracy'])\n",
    "\n",
    "nb_train_samples = 17050\n",
    "nb_validation_samples = 2099\n",
    "epochs=100\n",
    "\n",
    "history=model.fit_generator(\n",
    "                traindata_generator,\n",
    "                steps_per_epoch=nb_train_samples//batch_size,\n",
    "                epochs=epochs,\n",
    "                validation_data=validationdata_generator,\n",
    "                validation_steps=nb_validation_samples//batch_size,\n",
    "                callbacks = [earlystop])"
   ]
  },
  {
   "cell_type": "code",
   "execution_count": null,
   "metadata": {
    "id": "GVgQcdC683Xf"
   },
   "outputs": [],
   "source": [
    "import matplotlib.pyplot as plt"
   ]
  },
  {
   "cell_type": "code",
   "execution_count": null,
   "metadata": {
    "colab": {
     "base_uri": "https://localhost:8080/",
     "height": 265
    },
    "id": "sB5jKjvyQoN1",
    "outputId": "ad542514-eb2c-40b5-862f-3fc83fb5f9a2"
   },
   "outputs": [
    {
     "data": {
      "image/png": "[encoded data removed]",
      "text/plain": [
       "<Figure size 432x288 with 1 Axes>"
      ]
     },
     "metadata": {
      "needs_background": "light",
      "tags": []
     },
     "output_type": "display_data"
    }
   ],
   "source": [
    "plt.plot(history.history['accuracy'])\n",
    "plt.plot(history.history['val_accuracy'])\n",
    "plt.show()"
   ]
  },
  {
   "cell_type": "code",
   "execution_count": null,
   "metadata": {
    "colab": {
     "base_uri": "https://localhost:8080/",
     "height": 265
    },
    "id": "gXwZI6FVQwDo",
    "outputId": "9cd17ff8-1c3a-4c5f-fec7-05c83cae660b"
   },
   "outputs": [
    {
     "data": {
      "image/png": "[encoded data removed]",
      "text/plain": [
       "<Figure size 432x288 with 1 Axes>"
      ]
     },
     "metadata": {
      "needs_background": "light",
      "tags": []
     },
     "output_type": "display_data"
    }
   ],
   "source": [
    "plt.plot(history.history['loss'])\n",
    "plt.plot(history.history['val_loss'])\n",
    "plt.show()"
   ]
  },
  {
   "cell_type": "code",
   "execution_count": null,
   "metadata": {
    "id": "fX0xEBn19Fk2"
   },
   "outputs": [],
   "source": [
    "model.save('FER.h5')"
   ]
  },
  {
   "cell_type": "code",
   "execution_count": null,
   "metadata": {
    "id": "ZO6rNtG5Q7GQ"
   },
   "outputs": [],
   "source": []
  }
 ],
 "metadata": {
  "accelerator": "GPU",
  "colab": {
   "name": "FER2.ipynb",
   "provenance": []
  },
  "kernelspec": {
   "display_name": "Python 3",
   "language": "python",
   "name": "python3"
  },
  "language_info": {
   "codemirror_mode": {
    "name": "ipython",
    "version": 3
   },
   "file_extension": ".py",
   "mimetype": "text/x-python",
   "name": "python",
   "nbconvert_exporter": "python",
   "pygments_lexer": "ipython3",
   "version": "3.8.5"
  }
 },
 "nbformat": 4,
 "nbformat_minor": 1
}
